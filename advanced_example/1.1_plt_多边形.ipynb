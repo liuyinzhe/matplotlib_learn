{
 "cells": [
  {
   "cell_type": "code",
   "execution_count": 1,
   "id": "8e9ca5a4-6cdb-45d0-b9d8-ae7bdea74f90",
   "metadata": {},
   "outputs": [
    {
     "data": {
      "image/png": "[encoded data removed]",
      "text/plain": [
       "<Figure size 432x288 with 1 Axes>"
      ]
     },
     "metadata": {
      "needs_background": "light"
     },
     "output_type": "display_data"
    }
   ],
   "source": [
    "import matplotlib.pyplot as plt\n",
    "import numpy as np\n",
    "\n",
    "x = [0,0,5,10,15,15,10,5]\n",
    "y = [5,10,15,15,10,5,0,0]\n",
    "\n",
    "plt.fill(x,y,color=\"cornflowerblue\")\n",
    "#alpha=0.4 透明度\n",
    "\n",
    "# 指定x,y轴 范围\n",
    "plt.xlim(-1,16)\n",
    "plt.ylim(-1,16)\n",
    "\n",
    "# 指定x,y轴，坐标数值间隔\n",
    "## np.arange(起始，终止，步长)\n",
    "plt.xticks(np.arange(0,16,5))\n",
    "plt.yticks(np.arange(0,16,5))\n",
    "\n",
    "plt.show()"
   ]
  },
  {
   "cell_type": "markdown",
   "id": "333db819-f025-4dfa-a43d-7902498b9226",
   "metadata": {},
   "source": [
    "* matplotlib.pyplot.fill(*args, data=None, **kwargs)\n",
    "* plt.fill(args x, y, color=\"r\")\n",
    "  \n",
    " https://matplotlib.org/stable/api/_as_gen/matplotlib.pyplot.fill.html"
   ]
  },
  {
   "cell_type": "code",
   "execution_count": null,
   "id": "4edbc342-5931-43d0-a1a0-a49361d4b068",
   "metadata": {},
   "outputs": [],
   "source": []
  }
 ],
 "metadata": {
  "kernelspec": {
   "display_name": "Python 3 (ipykernel)",
   "language": "python",
   "name": "python3"
  },
  "language_info": {
   "codemirror_mode": {
    "name": "ipython",
    "version": 3
   },
   "file_extension": ".py",
   "mimetype": "text/x-python",
   "name": "python",
   "nbconvert_exporter": "python",
   "pygments_lexer": "ipython3",
   "version": "3.8.5"
  }
 },
 "nbformat": 4,
 "nbformat_minor": 5
}
