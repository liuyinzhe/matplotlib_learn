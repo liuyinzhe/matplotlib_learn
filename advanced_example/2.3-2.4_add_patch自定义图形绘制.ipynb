{
 "cells": [
  {
   "cell_type": "markdown",
   "id": "4728e0c7-fee8-4a0c-9312-437584cfc70c",
   "metadata": {},
   "source": [
    "1. 整个图片对象 → figure\n",
    "2. 图片内的子图对象 → axes\n",
    "3. 子图内的轴对象 → axis"
   ]
  },
  {
   "cell_type": "markdown",
   "id": "d00fa3dc-232b-46fd-b8fe-b201b902ee44",
   "metadata": {},
   "source": [
    "# 2.3 矩形的实现方法\n",
    "* matplotlib.patches.Rectangle(xy, width, height, angle=0.0, **kwargs)\n",
    "* facecolor 背景色\n",
    "* edgecolor 轮廓线条色\n",
    "* hatch 装饰图案\n",
    "\n",
    "* https://matplotlib.org/stable/api/_as_gen/matplotlib.patches.Rectangle.html?highlight=rectangle#matplotlib.patches.Rectangle"
   ]
  },
  {
   "cell_type": "code",
   "execution_count": 11,
   "id": "80674c85-9f41-46e7-9e4d-41b6a3774f2b",
   "metadata": {},
   "outputs": [
    {
     "data": {
      "image/png": "[encoded data removed]",
      "text/plain": [
       "<Figure size 432x288 with 1 Axes>"
      ]
     },
     "metadata": {
      "needs_background": "light"
     },
     "output_type": "display_data"
    }
   ],
   "source": [
    "import matplotlib.pyplot as plt\n",
    "import numpy as np\n",
    "from matplotlib.patches import Rectangle\n",
    "\n",
    "fig,ax = plt.subplots(subplot_kw={\"aspect\":\"equal\"}) #只有一个子图对象实例ax[0,0]\n",
    "\n",
    "x1 = np.arange(1,2.6,0.1)\n",
    "y1 = x1+2\n",
    "\n",
    "x2 = np.arange(2.5,4.1,0.1)\n",
    "y2 = -x2+7\n",
    "\n",
    "# axes子图对象\n",
    "# set background color\n",
    "rectangle = ax.patch\n",
    "rectangle.set_facecolor(\"lightskyblue\")\n",
    "\n",
    "# house\n",
    "rectangle1 = Rectangle((1,0),3,3,facecolor=\"w\",edgecolor=\"rosybrown\")\n",
    "\n",
    "# door\n",
    "rectangle2 = Rectangle((1.5,0),1,1.5,facecolor=\"w\",edgecolor=\"rosybrown\",hatch=\"|||\")\n",
    "\n",
    "# window\n",
    "rectangle3 = Rectangle((2.9,1.7),0.6,0.6,facecolor=\"w\",edgecolor=\"rosybrown\")\n",
    "\n",
    "rectangle_list = [rectangle1,rectangle2,rectangle3]\n",
    "\n",
    "# roof line # plot(x,y) 设置屋顶线条颜色\n",
    "ax.plot([1,2.5,4],[3,4.5,3],color=\"rosybrown\")\n",
    "\n",
    "# window line\n",
    "ax.plot([3.2,3.2],[1.7,2.3],color=\"rosybrown\")\n",
    "ax.plot([2.9,3.5],[2.0,2.0],color=\"rosybrown\")\n",
    "\n",
    "# white白色填充3到y1,y2部分\n",
    "# roof filled color\n",
    "ax.fill_between(x1,3,y1,color=\"w\",interpolate=True)\n",
    "ax.fill_between(x2,3,y2,color=\"w\",interpolate=True)\n",
    "\n",
    "# 添加实例 ax 到坐标轴实例 ax[0,0] 上\n",
    "for rect in rectangle_list:\n",
    "    ax.add_patch(rect)\n",
    "\n",
    "ax.axis([0,5,0,6])\n",
    "\n",
    "plt.show()\n"
   ]
  },
  {
   "cell_type": "markdown",
   "id": "5ba4bd70-57b0-47bb-8722-34aa9eef7e2d",
   "metadata": {},
   "source": [
    "## 2.4 圆弧和楔形的绘制方法\n",
    "* Arc 圆弧  Arc((2.5,1.1),3,1,angle=10,theta1=0,theta2=180,color=\"k\",alpha=0.8)\n",
    "    - (2.5,1.1) 圆弧的中心位置坐标\n",
    "    - 3 圆弧的宽度\n",
    "    - 1 圆弧的高度\n",
    "    - angle 圆弧的逆时针旋转角度\n",
    "    - theta1 圆弧起点处的角度\n",
    "    - theta2 圆弧终点处的角度\n",
    "    - color 圆弧的颜色\n",
    "    - alpha 圆弧的透明度\n",
    "* Wedge 楔形 Wedge((2,7),0.4,0,360,color=\"gold\")\n",
    "    - (2,7) 楔形的中心位置的坐标\n",
    "    - 0.4 楔形的半径\n",
    "    - 0 楔形起始位置的角度(逆时针方向)\n",
    "    - 360 楔形终止位置的角度(逆时针方向)\n",
    "    - color 楔形的填充区域颜色\n",
    "* Rectangle 矩形 Rectangle((1,2.1),3,4,color=\"steelblue\")\n",
    "    - (1,2.1) 矩形的左下角定点坐标\n",
    "    - 3 矩形的宽度\n",
    "    - 4 矩形的高度\n",
    "    - color 矩形的填充颜色\n",
    "    - facecolor 矩形的背景色\n",
    "    - edgecolor 矩形的轮廓线颜色\n",
    "* Ellipse 椭圆 Ellipse((2.5,0.5),4.2,0.5,angle=90，color=\"silver\",alpha=0.2)\n",
    "    - (2.5,0.5) 椭圆的中心位置坐标\n",
    "    - 4.2 椭圆的宽度\n",
    "    - 0.5 椭圆的长度\n",
    "    - angle 椭圆的角度(逆时针方向)\n",
    "    - color 椭圆的颜色\n",
    "    - alpha 椭圆的颜色的透明度\n",
    "## 参考\n",
    "- https://matplotlib.org/stable/api/_as_gen/matplotlib.patches.Arc.html?highlight=arc#matplotlib.patches.Arc\n",
    "- https://matplotlib.org/stable/api/_as_gen/matplotlib.patches.Wedge.html?highlight=wedge#matplotlib.patches.Wedge\n",
    "- https://matplotlib.org/stable/api/_as_gen/matplotlib.patches.Rectangle.html?highlight=rectangle#matplotlib.patches.Rectangle\n",
    "- https://matplotlib.org/stable/api/_as_gen/matplotlib.patches.Ellipse.html?highlight=ellipse#matplotlib.patches.Ellipse"
   ]
  },
  {
   "cell_type": "code",
   "execution_count": 15,
   "id": "bc4acd06-0d5d-4e2a-96eb-d366a19ba995",
   "metadata": {},
   "outputs": [
    {
     "data": {
      "image/png": "[encoded data removed]",
      "text/plain": [
       "<Figure size 432x288 with 1 Axes>"
      ]
     },
     "metadata": {
      "needs_background": "light"
     },
     "output_type": "display_data"
    }
   ],
   "source": [
    "import matplotlib.pyplot as plt\n",
    "import numpy as np\n",
    "from matplotlib.patches import Arc,Ellipse,Rectangle,Wedge\n",
    "\n",
    "fig,ax = plt.subplots(subplot_kw={\"aspect\":\"equal\"})\n",
    "\n",
    "# shadow\n",
    "shadow = Ellipse((2.5,0.5),4.2,0.5,color=\"silver\",alpha=0.2)\n",
    "\n",
    "# base\n",
    "ax.plot([1,4],[1,1.3],color=\"k\")\n",
    "base = Arc((2.5,1.1),3,1,angle=10,theta1=0,theta2=180,color=\"k\",alpha=0.8)\n",
    "\n",
    "# wheel\n",
    "left_wheel = Ellipse((1,1),0.7,0.4,angle=95,color=\"k\")\n",
    "right_wheel = Ellipse((4,1.3),0.7,0.4,angle=85,color=\"k\")\n",
    "\n",
    "# joinstyle\n",
    "bottom_joinstyle1 = Ellipse((2.5,2),1,0.3,facecolor=\"silver\",edgecolor=\"w\")\n",
    "bottom_joinstyle2 = Ellipse((2.5,1.7),1,0.3,facecolor=\"silver\",edgecolor=\"w\")\n",
    "left_joinstyle = Ellipse((1,5.75),0.5,0.25,angle=90,color=\"k\")\n",
    "left_arm_joinstyle1 = Wedge((0.3,4.55),0.1,0,360,color=\"k\")\n",
    "left_arm_joinstyle2 = Wedge((0,4.0),0.2,290,250,color=\"k\")\n",
    "right_joinstyle = Ellipse((4,5.75),0.5,0.25,angle=90,color=\"k\")\n",
    "right_arm_joinstyle1 = Wedge((4.3,6.95),0.1,0,360,color=\"k\")\n",
    "right_arm_joinstyle2 = Wedge((4.3,7.45),0.2,110,70,color=\"k\")\n",
    "top_joinstyle1 = Ellipse((2.5,6.2),0.5,0.2,facecolor=\"silver\",edgecolor=\"w\")\n",
    "top_joinstyle2 = Ellipse((2.5,6.3),0.5,0.2,facecolor=\"silver\",edgecolor=\"w\")\n",
    "\n",
    "# body\n",
    "body = Rectangle((1,2.1),3,4,color=\"steelblue\")\n",
    "\n",
    "# arms\n",
    "left_arm1 = ax.plot([0.3,1-0.125],[4.55,5.75],color=\"silver\",lw=4)\n",
    "left_arm2 = ax.plot([0,0.3],[4.2,4.55],color=\"silver\",lw=4)\n",
    "right_arm1 = ax.plot([4+0.125,4.3],[5.75,6.95],color=\"silver\",lw=4)\n",
    "right_arm2 = ax.plot([4.3,4.3],[6.95,7.25],color=\"silver\",lw=4)\n",
    "\n",
    "# head\n",
    "ax.plot([1,4],[6.4,6.4],color=\"steelblue\")\n",
    "head = Arc((2.5,6.4),3,2.5,angle=0,theta1=0,theta2=180,color=\"steelblue\")\n",
    "\n",
    "# eyes\n",
    "left_eye = Wedge((2,7),0.4,0,360,color=\"gold\")\n",
    "left_eye_center = Wedge((2,7),0.3,15,345,color=\"k\")\n",
    "right_eye = Wedge((3,7),0.4,0,360,color=\"k\")\n",
    "right_eye_center = Wedge((3,7),0.3,165,195,color=\"darkred\")\n",
    "\n",
    "polygon = [shadow,\n",
    "           base,\n",
    "           left_wheel,\n",
    "           right_wheel,\n",
    "           bottom_joinstyle1,\n",
    "           bottom_joinstyle2,\n",
    "           left_joinstyle,\n",
    "           left_arm_joinstyle1,\n",
    "           left_arm_joinstyle2,\n",
    "           right_joinstyle,\n",
    "           right_arm_joinstyle1,\n",
    "           right_arm_joinstyle2,\n",
    "           top_joinstyle1,\n",
    "           top_joinstyle2,\n",
    "           body,\n",
    "           head,\n",
    "           left_eye,\n",
    "           left_eye_center,\n",
    "           right_eye,\n",
    "           right_eye_center]\n",
    "\n",
    "for pln in polygon:\n",
    "    ax.add_patch(pln)\n",
    "\n",
    "ax.axis([-1,6,0,10])\n",
    "\n",
    "plt.show()\n"
   ]
  },
  {
   "cell_type": "code",
   "execution_count": null,
   "id": "4279cfd3-07b1-4312-bc66-ab9a8f18b355",
   "metadata": {},
   "outputs": [],
   "source": []
  },
  {
   "cell_type": "code",
   "execution_count": 60,
   "id": "e8553633-6ce3-4a94-bc78-bf7f007e08be",
   "metadata": {},
   "outputs": [
    {
     "data": {
      "text/plain": [
       "<matplotlib.patches.Rectangle at 0x286479ae580>"
      ]
     },
     "execution_count": 60,
     "metadata": {},
     "output_type": "execute_result"
    },
    {
     "data": {
      "image/png": "[encoded data removed]",
      "text/plain": [
       "<Figure size 432x288 with 1 Axes>"
      ]
     },
     "metadata": {
      "needs_background": "light"
     },
     "output_type": "display_data"
    }
   ],
   "source": [
    "import matplotlib.pyplot as plt\n",
    "import matplotlib.patches as patches\n",
    "\n",
    "fig1 = plt.figure()\n",
    "ax1 = fig1.add_subplot(111, aspect='equal')\n",
    "ax1.add_patch(\n",
    "    patches.Rectangle(\n",
    "        (0.1, 0.1),   # (x,y) 左下角定点坐标\n",
    "        0.5,          # width\n",
    "        0.5,          # height\n",
    "    )\n",
    ")"
   ]
  },
  {
   "cell_type": "markdown",
   "id": "f9a381c6-f253-4a93-8424-4ed65d2a623d",
   "metadata": {},
   "source": []
  }
 ],
 "metadata": {
  "kernelspec": {
   "display_name": "Python 3 (ipykernel)",
   "language": "python",
   "name": "python3"
  },
  "language_info": {
   "codemirror_mode": {
    "name": "ipython",
    "version": 3
   },
   "file_extension": ".py",
   "mimetype": "text/x-python",
   "name": "python",
   "nbconvert_exporter": "python",
   "pygments_lexer": "ipython3",
   "version": "3.8.5"
  }
 },
 "nbformat": 4,
 "nbformat_minor": 5
}
