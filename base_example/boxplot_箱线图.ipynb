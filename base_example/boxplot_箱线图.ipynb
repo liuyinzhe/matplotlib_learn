{
 "cells": [
  {
   "cell_type": "code",
   "execution_count": 1,
   "id": "f335f06b-b1fc-49ce-94ff-37376fbb1567",
   "metadata": {},
   "outputs": [
    {
     "data": {
      "image/png": "[encoded data removed]",
      "text/plain": [
       "<Figure size 432x288 with 1 Axes>"
      ]
     },
     "metadata": {
      "needs_background": "light"
     },
     "output_type": "display_data"
    }
   ],
   "source": [
    "import matplotlib.pyplot as plt\n",
    "import matplotlib as mpl\n",
    "import numpy as np\n",
    "\n",
    "\n",
    "mpl.rcParams[\"font.sans-serif\"]=[\"FangSong\"]\n",
    "mpl.rcParams[\"axes.unicode_minus\"]=False\n",
    "\n",
    "testA = np.random.randn(500)\n",
    "testB = np.random.randn(500)\n",
    "\n",
    "testList = [testA,testB]\n",
    "labels = [\"随机数生成器AlphaRM\",\"随机数生成器BetaRM\"]\n",
    "colors = [\"#1b9e77\",\"#d95f02\"]\n",
    "\n",
    "whis = 1.6\n",
    "width = 0.35\n",
    "\n",
    "\n",
    "\n",
    "bplot = plt.boxplot(testList,\n",
    "                    notch=False, # 箱线图 中位数是否带凹陷\n",
    "                    whis=whis,\n",
    "                    widths=width,\n",
    "                    sym=\"+\",   #异常值,离群值的显示方式 [.,+,*,o],这里为空字符串，不显示\n",
    "                    labels=labels,\n",
    "                    patch_artist=True)\n",
    "# boxprops = {'color':'orangered','facecolor':'pink'} 全部统一的key 设置\n",
    "\n",
    "# bplot.keys()\n",
    "# dict_keys(['whiskers', 'caps', 'boxes', 'medians', 'fliers', 'means'])\n",
    "\n",
    "\n",
    "for patch,color in zip(bplot[\"boxes\"],colors):\n",
    "    patch.set_facecolor(color) # 每个patch 设置前景色色\n",
    "\n",
    "    \n",
    "# 设置中位数medians线条颜色和宽度\n",
    "for patch in bplot[\"medians\"]:\n",
    "    patch.set_color('w')  #设置为白色\n",
    "    patch.set_linewidth(2)\n",
    "\n",
    "# 设置 中间线条 颜色和宽度\n",
    "for patch in bplot[\"whiskers\"]:\n",
    "    patch.set_color('r')  #设置为红色\n",
    "    patch.set_linewidth(2)\n",
    "    \n",
    "\n",
    "# 设置 最小值，最大值线条 颜色和宽度\n",
    "for patch in bplot[\"caps\"]:\n",
    "    patch.set_color('b')  #设置为蓝色\n",
    "    patch.set_linewidth(2)\n",
    "'''\n",
    "'set_alpha', #设置半透明\n",
    "'set_color',\n",
    "'set_linewidth', \n",
    "'set_linestyle',\n",
    "'set_label',\n",
    "\n",
    "\n",
    "linestyle    description\n",
    "'-' or 'solid'    solid line\n",
    "'--' or 'dashed'    dashed line\n",
    "'-.' or 'dashdot'    dash-dotted line\n",
    "':' or 'dotted'    dotted line\n",
    "'''\n",
    "\n",
    "\n",
    "plt.ylabel(\"随机数值\")\n",
    "plt.title(\"生成器抗干扰能力的稳定性比较\")\n",
    "\n",
    "#垂直于y的网格线\n",
    "plt.grid(axis=\"y\",ls=\":\",lw=1,color=\"gray\",alpha=0.4)\n",
    "\n",
    "# 保存图片\n",
    "plt.savefig(fname='boxplot_箱线图.png', dpi=300)\n",
    "\n",
    "plt.show()"
   ]
  },
  {
   "cell_type": "markdown",
   "id": "92c4e63c-247b-462c-bca7-67cc6fd6dcfd",
   "metadata": {},
   "source": [
    " ![](https://matplotlib.org/stable/_images/boxplot_explanation.png)"
   ]
  },
  {
   "cell_type": "code",
   "execution_count": 2,
   "id": "df210cd0-441b-4199-982b-a3ea088b1da6",
   "metadata": {},
   "outputs": [
    {
     "data": {
      "text/plain": [
       "dict_keys(['whiskers', 'caps', 'boxes', 'medians', 'fliers', 'means'])"
      ]
     },
     "execution_count": 2,
     "metadata": {},
     "output_type": "execute_result"
    }
   ],
   "source": [
    "bplot.keys()"
   ]
  },
  {
   "cell_type": "code",
   "execution_count": 3,
   "id": "94e85726-cac5-448b-8717-89292b21ef86",
   "metadata": {},
   "outputs": [
    {
     "data": {
      "text/plain": [
       "<matplotlib.patches.PathPatch at 0x237e6793880>"
      ]
     },
     "execution_count": 3,
     "metadata": {},
     "output_type": "execute_result"
    }
   ],
   "source": [
    "bplot['boxes'][0]"
   ]
  },
  {
   "cell_type": "code",
   "execution_count": null,
   "id": "90647071-e467-4919-a5d3-5075c20da612",
   "metadata": {},
   "outputs": [],
   "source": []
  }
 ],
 "metadata": {
  "kernelspec": {
   "display_name": "Python 3 (ipykernel)",
   "language": "python",
   "name": "python3"
  },
  "language_info": {
   "codemirror_mode": {
    "name": "ipython",
    "version": 3
   },
   "file_extension": ".py",
   "mimetype": "text/x-python",
   "name": "python",
   "nbconvert_exporter": "python",
   "pygments_lexer": "ipython3",
   "version": "3.8.5"
  }
 },
 "nbformat": 4,
 "nbformat_minor": 5
}
