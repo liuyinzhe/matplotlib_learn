{
 "cells": [
  {
   "cell_type": "code",
   "execution_count": 19,
   "id": "f335f06b-b1fc-49ce-94ff-37376fbb1567",
   "metadata": {},
   "outputs": [
    {
     "data": {
      "image/png": "[encoded data removed]",
      "text/plain": [
       "<Figure size 432x288 with 1 Axes>"
      ]
     },
     "metadata": {
      "needs_background": "light"
     },
     "output_type": "display_data"
    }
   ],
   "source": [
    "import matplotlib.pyplot as plt\n",
    "import matplotlib as mpl\n",
    "import numpy as np\n",
    "\n",
    "\n",
    "mpl.rcParams[\"font.sans-serif\"]=[\"FangSong\"]\n",
    "mpl.rcParams[\"axes.unicode_minus\"]=False\n",
    "\n",
    "testA = np.random.randn(500)\n",
    "testB = np.random.randn(500)\n",
    "\n",
    "testList = [testA,testB]\n",
    "labels = [\"随机数生成器AlphaRM\",\"随机数生成器BetaRM\"]\n",
    "colors = [\"#1b9e77\",\"#d95f02\"]\n",
    "\n",
    "whis = 1.6\n",
    "width = 0.35\n",
    "\n",
    "bplot = plt.boxplot(testList,\n",
    "                    whis=whis,\n",
    "                    widths=width,\n",
    "                    sym=\"+\",\n",
    "                    labels=labels,\n",
    "                    patch_artist=True)\n",
    "\n",
    "for patch,color in zip(bplot[\"boxes\"],colors):\n",
    "    patch.set_facecolor(color) # 每个patch 设置背景色\n",
    "\n",
    "\n",
    "plt.ylabel(\"随机数值\")\n",
    "plt.title(\"生成器抗干扰能力的稳定性比较\")\n",
    "\n",
    "#垂直于y的网格线\n",
    "plt.grid(axis=\"y\",ls=\":\",lw=1,color=\"gray\",alpha=0.4)\n",
    "\n",
    "# 保存图片\n",
    "plt.savefig(fname='boxplot_箱线图.png', dpi=300)\n",
    "\n",
    "plt.show()"
   ]
  },
  {
   "cell_type": "code",
   "execution_count": null,
   "id": "290a5365-27f2-4dbb-a761-66d2d5b9feeb",
   "metadata": {},
   "outputs": [],
   "source": []
  }
 ],
 "metadata": {
  "kernelspec": {
   "display_name": "Python 3 (ipykernel)",
   "language": "python",
   "name": "python3"
  },
  "language_info": {
   "codemirror_mode": {
    "name": "ipython",
    "version": 3
   },
   "file_extension": ".py",
   "mimetype": "text/x-python",
   "name": "python",
   "nbconvert_exporter": "python",
   "pygments_lexer": "ipython3",
   "version": "3.8.5"
  }
 },
 "nbformat": 4,
 "nbformat_minor": 5
}
