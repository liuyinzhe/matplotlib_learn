{
 "cells": [
  {
   "cell_type": "code",
   "execution_count": 1,
   "id": "aefe7eae-d9cb-436c-91af-9895cd42b798",
   "metadata": {},
   "outputs": [
    {
     "data": {
      "image/png": "[encoded data removed]",
      "text/plain": [
       "<Figure size 432x288 with 1 Axes>"
      ]
     },
     "metadata": {
      "needs_background": "light"
     },
     "output_type": "display_data"
    }
   ],
   "source": [
    "import matplotlib.pyplot as plt\n",
    "import matplotlib as mpl\n",
    "import numpy as np\n",
    "\n",
    "\n",
    "mpl.rcParams[\"font.sans-serif\"]=[\"FangSong\"]\n",
    "mpl.rcParams[\"axes.unicode_minus\"]=False\n",
    "\n",
    "mu = 60.0\n",
    "sigma = 2.0\n",
    "x = mu+sigma*np.random.randn(500)\n",
    "\n",
    "bins = 50\n",
    "#途中一个格子放图片\n",
    "fig,ax = plt.subplots(1,1)\n",
    "\n",
    "# 绘制第一组直方图\n",
    "n,bins,patches = ax.hist(x,\n",
    "                         bins,\n",
    "                         density=True,\n",
    "                         histtype=\"bar\", # 风格\n",
    "                         facecolor=\"cornflowerblue\", # 填充颜色\n",
    "                         edgecolor=\"white\", # 边框\n",
    "                         alpha=0.75) #透明度\n",
    "'''\n",
    "histtype {'bar', 'barstacked', 'step', 'stepfilled'}，默认值：'bar'\n",
    "要绘制的直方图类型。\n",
    "\n",
    "'bar' 是传统的条形直方图。如果给出多个数据，则条形并排排列。\n",
    "'barstacked' 是一种条形直方图，其中多个数据相互堆叠。\n",
    "'step' 生成默认未填充的线图。\n",
    "'stepfill' 生成默认填充的线图。\n",
    "'''\n",
    "\n",
    "y = ((1/(np.power(2*np.pi,0.5)*sigma))*\n",
    "     np.exp(-0.5*np.power((bins-mu)/sigma,2)))\n",
    "\n",
    "# 绘制第二组直方图\n",
    "x2 = mu+sigma*np.random.randn(300)\n",
    "\n",
    "n,bins,patches = ax.hist(x2,\n",
    "                         bins,\n",
    "                         density=True,\n",
    "                         histtype=\"bar\",    # 风格\n",
    "                         facecolor=\"red\",   # 填充颜色\n",
    "                         edgecolor=\"white\", # 边框\n",
    "                         alpha=0.75)        #透明度\n",
    "\n",
    "\n",
    "ax.plot(bins,y,color=\"orange\",ls=\"--\",lw=2)\n",
    "\n",
    "ax.grid(ls=\":\",lw=1,color=\"gray\",alpha=0.2)\n",
    "\n",
    "#添加公式，这里注释掉了\n",
    "'''\n",
    "ax.text(54,0.2,\n",
    "        r\"$y=\\frac{1}{\\sigma\\sqrt{2\\pi}}e^{-\\frac{(x-\\mu)^2}{2\\sigma^2}}$\",\n",
    "        {\"color\": \"r\", \"fontsize\": 20})\n",
    "'''\n",
    "\n",
    "ax.set_xlabel(\"体重\")\n",
    "ax.set_ylabel(\"概率密度\")\n",
    "ax.set_title(r\"体重的直方图: $\\mu=60.0$, $\\sigma=2.0$\",fontsize=16)\n",
    "\n",
    "# 保存图片\n",
    "plt.savefig(fname='hist_直方图.png', dpi=300)\n",
    "\n",
    "plt.show()"
   ]
  },
  {
   "cell_type": "markdown",
   "id": "a2603232-565b-4a20-ad74-7e4a06761eb5",
   "metadata": {},
   "source": [
    "* diff()求每一行中相邻元素的差值\n",
    "##### [1, 6, 7, 8, 12]\n",
    "##### diff() -> [6-1,7-6,8-7,12-8]"
   ]
  },
  {
   "cell_type": "code",
   "execution_count": 2,
   "id": "ecc9dc2b-1790-494b-8618-6878f36b960a",
   "metadata": {},
   "outputs": [
    {
     "data": {
      "text/plain": [
       "array([5, 1, 1, 4])"
      ]
     },
     "execution_count": 2,
     "metadata": {},
     "output_type": "execute_result"
    }
   ],
   "source": [
    "import numpy as np\n",
    "\n",
    "a=np.array([1, 6, 7, 8, 12])\n",
    "np.diff(a)\n",
    "# diff_x1 [5 1 1 4]\n",
    "# [6-1,7-6,8-7,12-8]"
   ]
  },
  {
   "cell_type": "markdown",
   "id": "925d104e-5ff5-4af6-916c-921e3953e77c",
   "metadata": {},
   "source": [
    "* numpy.power()用于数组元素求n次方"
   ]
  },
  {
   "cell_type": "code",
   "execution_count": 3,
   "id": "2792d57b-3010-4528-85e5-bb1b8251b7a5",
   "metadata": {},
   "outputs": [
    {
     "name": "stdout",
     "output_type": "stream",
     "text": [
      "[0 1 2 3 4 5 6]\n"
     ]
    },
    {
     "data": {
      "text/plain": [
       "array([ 0,  1,  4,  9, 16, 25, 36], dtype=int32)"
      ]
     },
     "execution_count": 3,
     "metadata": {},
     "output_type": "execute_result"
    }
   ],
   "source": [
    "# numpy.power()用于数组元素求n次方\n",
    "import numpy as np\n",
    "x1 = np.arange(7)\n",
    "#x1 = range(7)\n",
    "print(x1)\n",
    "#求每个元素的n次方\n",
    "np.power(x1,2)"
   ]
  },
  {
   "cell_type": "code",
   "execution_count": null,
   "id": "16940fba-c81b-4d50-97ac-abf081d9524a",
   "metadata": {},
   "outputs": [],
   "source": []
  }
 ],
 "metadata": {
  "kernelspec": {
   "display_name": "Python 3 (ipykernel)",
   "language": "python",
   "name": "python3"
  },
  "language_info": {
   "codemirror_mode": {
    "name": "ipython",
    "version": 3
   },
   "file_extension": ".py",
   "mimetype": "text/x-python",
   "name": "python",
   "nbconvert_exporter": "python",
   "pygments_lexer": "ipython3",
   "version": "3.8.5"
  }
 },
 "nbformat": 4,
 "nbformat_minor": 5
}
